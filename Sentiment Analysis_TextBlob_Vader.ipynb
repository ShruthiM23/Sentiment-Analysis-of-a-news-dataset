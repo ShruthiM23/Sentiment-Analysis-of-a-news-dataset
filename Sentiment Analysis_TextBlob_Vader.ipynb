{
 "cells": [
  {
   "cell_type": "markdown",
   "id": "4f7d6db3",
   "metadata": {},
   "source": [
    "# Sentiment Analysis - Rule Based"
   ]
  },
  {
   "cell_type": "code",
   "execution_count": null,
   "id": "6af5425d",
   "metadata": {},
   "outputs": [],
   "source": [
    "import pandas as pd\n",
    "import numpy as np\n",
    "import matplotlib.pyplot as plt\n",
    "import seaborn as sns"
   ]
  },
  {
   "cell_type": "code",
   "execution_count": 43,
   "id": "891cc0e2",
   "metadata": {},
   "outputs": [
    {
     "data": {
      "text/html": [
       "<div>\n",
       "<style scoped>\n",
       "    .dataframe tbody tr th:only-of-type {\n",
       "        vertical-align: middle;\n",
       "    }\n",
       "\n",
       "    .dataframe tbody tr th {\n",
       "        vertical-align: top;\n",
       "    }\n",
       "\n",
       "    .dataframe thead th {\n",
       "        text-align: right;\n",
       "    }\n",
       "</style>\n",
       "<table border=\"1\" class=\"dataframe\">\n",
       "  <thead>\n",
       "    <tr style=\"text-align: right;\">\n",
       "      <th></th>\n",
       "      <th>news_category</th>\n",
       "      <th>clean_text</th>\n",
       "    </tr>\n",
       "  </thead>\n",
       "  <tbody>\n",
       "    <tr>\n",
       "      <th>0</th>\n",
       "      <td>technology</td>\n",
       "      <td>oppo reno pro g bokeh flare portrait video sal...</td>\n",
       "    </tr>\n",
       "    <tr>\n",
       "      <th>1</th>\n",
       "      <td>technology</td>\n",
       "      <td>oppo reno pro g bokeh flare portrait video go ...</td>\n",
       "    </tr>\n",
       "    <tr>\n",
       "      <th>2</th>\n",
       "      <td>technology</td>\n",
       "      <td>pegasus use horrible human right abuse must st...</td>\n",
       "    </tr>\n",
       "    <tr>\n",
       "      <th>3</th>\n",
       "      <td>technology</td>\n",
       "      <td>zoom buy five billion large ever acquisition z...</td>\n",
       "    </tr>\n",
       "    <tr>\n",
       "      <th>4</th>\n",
       "      <td>technology</td>\n",
       "      <td>form illegal spying impossible india minister ...</td>\n",
       "    </tr>\n",
       "  </tbody>\n",
       "</table>\n",
       "</div>"
      ],
      "text/plain": [
       "  news_category                                         clean_text\n",
       "0    technology  oppo reno pro g bokeh flare portrait video sal...\n",
       "1    technology  oppo reno pro g bokeh flare portrait video go ...\n",
       "2    technology  pegasus use horrible human right abuse must st...\n",
       "3    technology  zoom buy five billion large ever acquisition z...\n",
       "4    technology  form illegal spying impossible india minister ..."
      ]
     },
     "execution_count": 43,
     "metadata": {},
     "output_type": "execute_result"
    }
   ],
   "source": [
    "df=pd.read_csv(\"news.csv\",usecols=[\"clean_text\",\"news_category\"])\n",
    "df.head()"
   ]
  },
  {
   "cell_type": "code",
   "execution_count": 44,
   "id": "cfdd07fd",
   "metadata": {},
   "outputs": [
    {
     "data": {
      "text/plain": [
       "(75, 2)"
      ]
     },
     "execution_count": 44,
     "metadata": {},
     "output_type": "execute_result"
    }
   ],
   "source": [
    "df.shape"
   ]
  },
  {
   "cell_type": "markdown",
   "id": "b7c32497",
   "metadata": {},
   "source": [
    "# 1. Sentiment analysis using TextBlob"
   ]
  },
  {
   "cell_type": "code",
   "execution_count": 46,
   "id": "89ceda32",
   "metadata": {},
   "outputs": [
    {
     "name": "stdout",
     "output_type": "stream",
     "text": [
      "Requirement already satisfied: TextBlob in f:\\ana3\\envs\\tf\\lib\\site-packages (0.15.3)\n",
      "Requirement already satisfied: nltk>=3.1 in f:\\ana3\\envs\\tf\\lib\\site-packages (from TextBlob) (3.6.2)\n",
      "Requirement already satisfied: regex in f:\\ana3\\envs\\tf\\lib\\site-packages (from nltk>=3.1->TextBlob) (2021.4.4)\n",
      "Requirement already satisfied: joblib in f:\\ana3\\envs\\tf\\lib\\site-packages (from nltk>=3.1->TextBlob) (1.0.1)\n",
      "Requirement already satisfied: tqdm in f:\\ana3\\envs\\tf\\lib\\site-packages (from nltk>=3.1->TextBlob) (4.61.2)\n",
      "Requirement already satisfied: click in f:\\ana3\\envs\\tf\\lib\\site-packages (from nltk>=3.1->TextBlob) (7.1.2)\n",
      "Requirement already satisfied: colorama in f:\\ana3\\envs\\tf\\lib\\site-packages (from tqdm->nltk>=3.1->TextBlob) (0.4.4)\n"
     ]
    }
   ],
   "source": [
    "!pip install TextBlob"
   ]
  },
  {
   "cell_type": "code",
   "execution_count": 47,
   "id": "86834e03",
   "metadata": {},
   "outputs": [],
   "source": [
    "from textblob import TextBlob"
   ]
  },
  {
   "cell_type": "code",
   "execution_count": 48,
   "id": "48dc3d0f",
   "metadata": {},
   "outputs": [
    {
     "name": "stdout",
     "output_type": "stream",
     "text": [
      "75\n"
     ]
    }
   ],
   "source": [
    "sentiment_scores_tb = [round(TextBlob(article).sentiment.polarity, 3) for article in df['clean_text']]\n",
    "sentiment_scores_tb[0:5]\n",
    "print(len(sentiment_scores_tb))"
   ]
  },
  {
   "cell_type": "code",
   "execution_count": 49,
   "id": "e992b036",
   "metadata": {},
   "outputs": [],
   "source": [
    "df[\"Sentiment_score_textb\"]=sentiment_scores_tb"
   ]
  },
  {
   "cell_type": "code",
   "execution_count": 50,
   "id": "f1c50e62",
   "metadata": {},
   "outputs": [
    {
     "data": {
      "text/html": [
       "<div>\n",
       "<style scoped>\n",
       "    .dataframe tbody tr th:only-of-type {\n",
       "        vertical-align: middle;\n",
       "    }\n",
       "\n",
       "    .dataframe tbody tr th {\n",
       "        vertical-align: top;\n",
       "    }\n",
       "\n",
       "    .dataframe thead th {\n",
       "        text-align: right;\n",
       "    }\n",
       "</style>\n",
       "<table border=\"1\" class=\"dataframe\">\n",
       "  <thead>\n",
       "    <tr style=\"text-align: right;\">\n",
       "      <th></th>\n",
       "      <th>news_category</th>\n",
       "      <th>clean_text</th>\n",
       "      <th>Sentiment_score_textb</th>\n",
       "    </tr>\n",
       "  </thead>\n",
       "  <tbody>\n",
       "    <tr>\n",
       "      <th>0</th>\n",
       "      <td>technology</td>\n",
       "      <td>oppo reno pro g bokeh flare portrait video sal...</td>\n",
       "      <td>0.250</td>\n",
       "    </tr>\n",
       "    <tr>\n",
       "      <th>1</th>\n",
       "      <td>technology</td>\n",
       "      <td>oppo reno pro g bokeh flare portrait video go ...</td>\n",
       "      <td>0.077</td>\n",
       "    </tr>\n",
       "    <tr>\n",
       "      <th>2</th>\n",
       "      <td>technology</td>\n",
       "      <td>pegasus use horrible human right abuse must st...</td>\n",
       "      <td>-0.254</td>\n",
       "    </tr>\n",
       "    <tr>\n",
       "      <th>3</th>\n",
       "      <td>technology</td>\n",
       "      <td>zoom buy five billion large ever acquisition z...</td>\n",
       "      <td>-0.024</td>\n",
       "    </tr>\n",
       "    <tr>\n",
       "      <th>4</th>\n",
       "      <td>technology</td>\n",
       "      <td>form illegal spying impossible india minister ...</td>\n",
       "      <td>-0.299</td>\n",
       "    </tr>\n",
       "  </tbody>\n",
       "</table>\n",
       "</div>"
      ],
      "text/plain": [
       "  news_category                                         clean_text  \\\n",
       "0    technology  oppo reno pro g bokeh flare portrait video sal...   \n",
       "1    technology  oppo reno pro g bokeh flare portrait video go ...   \n",
       "2    technology  pegasus use horrible human right abuse must st...   \n",
       "3    technology  zoom buy five billion large ever acquisition z...   \n",
       "4    technology  form illegal spying impossible india minister ...   \n",
       "\n",
       "   Sentiment_score_textb  \n",
       "0                  0.250  \n",
       "1                  0.077  \n",
       "2                 -0.254  \n",
       "3                 -0.024  \n",
       "4                 -0.299  "
      ]
     },
     "execution_count": 50,
     "metadata": {},
     "output_type": "execute_result"
    }
   ],
   "source": [
    "df.head()"
   ]
  },
  {
   "cell_type": "code",
   "execution_count": 51,
   "id": "5eaa8183",
   "metadata": {},
   "outputs": [
    {
     "data": {
      "text/plain": [
       "0.25"
      ]
     },
     "execution_count": 51,
     "metadata": {},
     "output_type": "execute_result"
    }
   ],
   "source": [
    "df[\"Sentiment_score_textb\"][0]"
   ]
  },
  {
   "cell_type": "code",
   "execution_count": 52,
   "id": "fed55b03",
   "metadata": {},
   "outputs": [],
   "source": [
    "df[\"senti_labels\"]=\"dummy\"\n",
    "for i in range(75):\n",
    "    if df[\"Sentiment_score_textb\"][i]>0:\n",
    "        df.iloc[i,3]=\"Positive\"\n",
    "    elif df[\"Sentiment_score_textb\"][i]<0:\n",
    "        df.iloc[i,3]=\"Negative\"\n",
    "    else:\n",
    "        df.iloc[i,3]=\"Neutral\""
   ]
  },
  {
   "cell_type": "code",
   "execution_count": 53,
   "id": "dea4b924",
   "metadata": {},
   "outputs": [
    {
     "data": {
      "text/html": [
       "<div>\n",
       "<style scoped>\n",
       "    .dataframe tbody tr th:only-of-type {\n",
       "        vertical-align: middle;\n",
       "    }\n",
       "\n",
       "    .dataframe tbody tr th {\n",
       "        vertical-align: top;\n",
       "    }\n",
       "\n",
       "    .dataframe thead th {\n",
       "        text-align: right;\n",
       "    }\n",
       "</style>\n",
       "<table border=\"1\" class=\"dataframe\">\n",
       "  <thead>\n",
       "    <tr style=\"text-align: right;\">\n",
       "      <th></th>\n",
       "      <th>news_category</th>\n",
       "      <th>clean_text</th>\n",
       "      <th>Sentiment_score_textb</th>\n",
       "      <th>senti_labels</th>\n",
       "    </tr>\n",
       "  </thead>\n",
       "  <tbody>\n",
       "    <tr>\n",
       "      <th>0</th>\n",
       "      <td>technology</td>\n",
       "      <td>oppo reno pro g bokeh flare portrait video sal...</td>\n",
       "      <td>0.250</td>\n",
       "      <td>Positive</td>\n",
       "    </tr>\n",
       "    <tr>\n",
       "      <th>1</th>\n",
       "      <td>technology</td>\n",
       "      <td>oppo reno pro g bokeh flare portrait video go ...</td>\n",
       "      <td>0.077</td>\n",
       "      <td>Positive</td>\n",
       "    </tr>\n",
       "    <tr>\n",
       "      <th>2</th>\n",
       "      <td>technology</td>\n",
       "      <td>pegasus use horrible human right abuse must st...</td>\n",
       "      <td>-0.254</td>\n",
       "      <td>Negative</td>\n",
       "    </tr>\n",
       "    <tr>\n",
       "      <th>3</th>\n",
       "      <td>technology</td>\n",
       "      <td>zoom buy five billion large ever acquisition z...</td>\n",
       "      <td>-0.024</td>\n",
       "      <td>Negative</td>\n",
       "    </tr>\n",
       "    <tr>\n",
       "      <th>4</th>\n",
       "      <td>technology</td>\n",
       "      <td>form illegal spying impossible india minister ...</td>\n",
       "      <td>-0.299</td>\n",
       "      <td>Negative</td>\n",
       "    </tr>\n",
       "  </tbody>\n",
       "</table>\n",
       "</div>"
      ],
      "text/plain": [
       "  news_category                                         clean_text  \\\n",
       "0    technology  oppo reno pro g bokeh flare portrait video sal...   \n",
       "1    technology  oppo reno pro g bokeh flare portrait video go ...   \n",
       "2    technology  pegasus use horrible human right abuse must st...   \n",
       "3    technology  zoom buy five billion large ever acquisition z...   \n",
       "4    technology  form illegal spying impossible india minister ...   \n",
       "\n",
       "   Sentiment_score_textb senti_labels  \n",
       "0                  0.250     Positive  \n",
       "1                  0.077     Positive  \n",
       "2                 -0.254     Negative  \n",
       "3                 -0.024     Negative  \n",
       "4                 -0.299     Negative  "
      ]
     },
     "execution_count": 53,
     "metadata": {},
     "output_type": "execute_result"
    }
   ],
   "source": [
    "df.head()"
   ]
  },
  {
   "cell_type": "code",
   "execution_count": 54,
   "id": "457c6e7f",
   "metadata": {},
   "outputs": [
    {
     "data": {
      "text/html": [
       "<div>\n",
       "<style scoped>\n",
       "    .dataframe tbody tr th:only-of-type {\n",
       "        vertical-align: middle;\n",
       "    }\n",
       "\n",
       "    .dataframe tbody tr th {\n",
       "        vertical-align: top;\n",
       "    }\n",
       "\n",
       "    .dataframe thead th {\n",
       "        text-align: right;\n",
       "    }\n",
       "</style>\n",
       "<table border=\"1\" class=\"dataframe\">\n",
       "  <thead>\n",
       "    <tr style=\"text-align: right;\">\n",
       "      <th></th>\n",
       "      <th>news_category</th>\n",
       "      <th>clean_text</th>\n",
       "      <th>Sentiment_score_textb</th>\n",
       "      <th>senti_labels</th>\n",
       "    </tr>\n",
       "  </thead>\n",
       "  <tbody>\n",
       "    <tr>\n",
       "      <th>0</th>\n",
       "      <td>technology</td>\n",
       "      <td>oppo reno pro g bokeh flare portrait video sal...</td>\n",
       "      <td>0.25</td>\n",
       "      <td>Positive</td>\n",
       "    </tr>\n",
       "  </tbody>\n",
       "</table>\n",
       "</div>"
      ],
      "text/plain": [
       "  news_category                                         clean_text  \\\n",
       "0    technology  oppo reno pro g bokeh flare portrait video sal...   \n",
       "\n",
       "   Sentiment_score_textb senti_labels  \n",
       "0                   0.25     Positive  "
      ]
     },
     "execution_count": 54,
     "metadata": {},
     "output_type": "execute_result"
    }
   ],
   "source": [
    "df.head(1)"
   ]
  },
  {
   "cell_type": "code",
   "execution_count": 57,
   "id": "d136847c",
   "metadata": {},
   "outputs": [
    {
     "data": {
      "text/plain": [
       "Positive    44\n",
       "Negative    23\n",
       "Neutral      8\n",
       "Name: senti_labels, dtype: int64"
      ]
     },
     "execution_count": 57,
     "metadata": {},
     "output_type": "execute_result"
    }
   ],
   "source": [
    "df.senti_labels.value_counts()"
   ]
  },
  {
   "cell_type": "code",
   "execution_count": 58,
   "id": "87e68f40",
   "metadata": {},
   "outputs": [
    {
     "data": {
      "text/plain": [
       "count    75.000000\n",
       "mean      0.046493\n",
       "std       0.194805\n",
       "min      -0.456000\n",
       "25%      -0.035500\n",
       "50%       0.033000\n",
       "75%       0.150000\n",
       "max       0.667000\n",
       "Name: Sentiment_score_textb, dtype: float64"
      ]
     },
     "execution_count": 58,
     "metadata": {},
     "output_type": "execute_result"
    }
   ],
   "source": [
    "df.Sentiment_score_textb.describe()"
   ]
  },
  {
   "cell_type": "code",
   "execution_count": 73,
   "id": "97484176",
   "metadata": {},
   "outputs": [
    {
     "data": {
      "text/plain": [
       "<AxesSubplot:>"
      ]
     },
     "execution_count": 73,
     "metadata": {},
     "output_type": "execute_result"
    },
    {
     "data": {
      "image/png": "[encoded data removed]",
      "text/plain": [
       "<Figure size 432x288 with 1 Axes>"
      ]
     },
     "metadata": {
      "needs_background": "light"
     },
     "output_type": "display_data"
    }
   ],
   "source": [
    "df.boxplot()"
   ]
  },
  {
   "cell_type": "code",
   "execution_count": 74,
   "id": "e8e8a78e",
   "metadata": {},
   "outputs": [
    {
     "data": {
      "text/plain": [
       "array([[<AxesSubplot:title={'center':'Sentiment_score_textb'}>]],\n",
       "      dtype=object)"
      ]
     },
     "execution_count": 74,
     "metadata": {},
     "output_type": "execute_result"
    },
    {
     "data": {
      "image/png": "[encoded data removed]",
      "text/plain": [
       "<Figure size 432x288 with 1 Axes>"
      ]
     },
     "metadata": {
      "needs_background": "light"
     },
     "output_type": "display_data"
    }
   ],
   "source": [
    "df.hist()"
   ]
  },
  {
   "cell_type": "code",
   "execution_count": 61,
   "id": "8abe6151",
   "metadata": {},
   "outputs": [
    {
     "data": {
      "text/html": [
       "<div>\n",
       "<style scoped>\n",
       "    .dataframe tbody tr th:only-of-type {\n",
       "        vertical-align: middle;\n",
       "    }\n",
       "\n",
       "    .dataframe tbody tr th {\n",
       "        vertical-align: top;\n",
       "    }\n",
       "\n",
       "    .dataframe thead th {\n",
       "        text-align: right;\n",
       "    }\n",
       "</style>\n",
       "<table border=\"1\" class=\"dataframe\">\n",
       "  <thead>\n",
       "    <tr style=\"text-align: right;\">\n",
       "      <th></th>\n",
       "      <th>news_category</th>\n",
       "      <th>clean_text</th>\n",
       "      <th>Sentiment_score_textb</th>\n",
       "      <th>senti_labels</th>\n",
       "    </tr>\n",
       "  </thead>\n",
       "  <tbody>\n",
       "    <tr>\n",
       "      <th>8</th>\n",
       "      <td>technology</td>\n",
       "      <td>no substance pegasus allegation attempt malign...</td>\n",
       "      <td>0.667</td>\n",
       "      <td>Positive</td>\n",
       "    </tr>\n",
       "  </tbody>\n",
       "</table>\n",
       "</div>"
      ],
      "text/plain": [
       "  news_category                                         clean_text  \\\n",
       "8    technology  no substance pegasus allegation attempt malign...   \n",
       "\n",
       "   Sentiment_score_textb senti_labels  \n",
       "8                  0.667     Positive  "
      ]
     },
     "execution_count": 61,
     "metadata": {},
     "output_type": "execute_result"
    }
   ],
   "source": [
    "df[df[\"Sentiment_score_textb\"]==df[\"Sentiment_score_textb\"].max()]"
   ]
  },
  {
   "cell_type": "code",
   "execution_count": 70,
   "id": "5ceb4779",
   "metadata": {},
   "outputs": [
    {
     "data": {
      "text/plain": [
       "'no substance pegasus allegation attempt malign india minister no substance sensational report pegasus spyware use snoop journalist minister activist india minister ashwini vaishnaw say monday say report appear day monsoon session parliament ca nt coincidence report attempt malign indian democracy well establish institution add'"
      ]
     },
     "execution_count": 70,
     "metadata": {},
     "output_type": "execute_result"
    }
   ],
   "source": [
    "df[df[\"Sentiment_score_textb\"]==df[\"Sentiment_score_textb\"].max()][\"clean_text\"].values[0]"
   ]
  },
  {
   "cell_type": "code",
   "execution_count": 71,
   "id": "98c61fe8",
   "metadata": {},
   "outputs": [
    {
     "data": {
      "text/plain": [
       "'google fire exec say no long hate jews linkedin post google fire amr awadallah developer relation vp google cloud day publish linkedin manifesto israeli palestinian relation admit use hate jews google employee reportedly object describe jews express concern past belief awadallah say piece promote tolerance understanding'"
      ]
     },
     "execution_count": 71,
     "metadata": {},
     "output_type": "execute_result"
    }
   ],
   "source": [
    "df[df[\"Sentiment_score_textb\"]==df[\"Sentiment_score_textb\"].min()][\"clean_text\"].values[0]"
   ]
  },
  {
   "cell_type": "code",
   "execution_count": 75,
   "id": "113f5c02",
   "metadata": {},
   "outputs": [
    {
     "data": {
      "text/html": [
       "<div>\n",
       "<style scoped>\n",
       "    .dataframe tbody tr th:only-of-type {\n",
       "        vertical-align: middle;\n",
       "    }\n",
       "\n",
       "    .dataframe tbody tr th {\n",
       "        vertical-align: top;\n",
       "    }\n",
       "\n",
       "    .dataframe thead th {\n",
       "        text-align: right;\n",
       "    }\n",
       "</style>\n",
       "<table border=\"1\" class=\"dataframe\">\n",
       "  <thead>\n",
       "    <tr style=\"text-align: right;\">\n",
       "      <th></th>\n",
       "      <th>news_category</th>\n",
       "      <th>clean_text</th>\n",
       "      <th>Sentiment_score_textb</th>\n",
       "      <th>senti_labels</th>\n",
       "    </tr>\n",
       "  </thead>\n",
       "  <tbody>\n",
       "    <tr>\n",
       "      <th>0</th>\n",
       "      <td>technology</td>\n",
       "      <td>oppo reno pro g bokeh flare portrait video sal...</td>\n",
       "      <td>0.250</td>\n",
       "      <td>Positive</td>\n",
       "    </tr>\n",
       "    <tr>\n",
       "      <th>1</th>\n",
       "      <td>technology</td>\n",
       "      <td>oppo reno pro g bokeh flare portrait video go ...</td>\n",
       "      <td>0.077</td>\n",
       "      <td>Positive</td>\n",
       "    </tr>\n",
       "    <tr>\n",
       "      <th>2</th>\n",
       "      <td>technology</td>\n",
       "      <td>pegasus use horrible human right abuse must st...</td>\n",
       "      <td>-0.254</td>\n",
       "      <td>Negative</td>\n",
       "    </tr>\n",
       "    <tr>\n",
       "      <th>3</th>\n",
       "      <td>technology</td>\n",
       "      <td>zoom buy five billion large ever acquisition z...</td>\n",
       "      <td>-0.024</td>\n",
       "      <td>Negative</td>\n",
       "    </tr>\n",
       "    <tr>\n",
       "      <th>4</th>\n",
       "      <td>technology</td>\n",
       "      <td>form illegal spying impossible india minister ...</td>\n",
       "      <td>-0.299</td>\n",
       "      <td>Negative</td>\n",
       "    </tr>\n",
       "  </tbody>\n",
       "</table>\n",
       "</div>"
      ],
      "text/plain": [
       "  news_category                                         clean_text  \\\n",
       "0    technology  oppo reno pro g bokeh flare portrait video sal...   \n",
       "1    technology  oppo reno pro g bokeh flare portrait video go ...   \n",
       "2    technology  pegasus use horrible human right abuse must st...   \n",
       "3    technology  zoom buy five billion large ever acquisition z...   \n",
       "4    technology  form illegal spying impossible india minister ...   \n",
       "\n",
       "   Sentiment_score_textb senti_labels  \n",
       "0                  0.250     Positive  \n",
       "1                  0.077     Positive  \n",
       "2                 -0.254     Negative  \n",
       "3                 -0.024     Negative  \n",
       "4                 -0.299     Negative  "
      ]
     },
     "execution_count": 75,
     "metadata": {},
     "output_type": "execute_result"
    }
   ],
   "source": [
    "df.head()"
   ]
  },
  {
   "cell_type": "code",
   "execution_count": 84,
   "id": "841a4811",
   "metadata": {},
   "outputs": [
    {
     "data": {
      "text/html": [
       "<div>\n",
       "<style scoped>\n",
       "    .dataframe tbody tr th:only-of-type {\n",
       "        vertical-align: middle;\n",
       "    }\n",
       "\n",
       "    .dataframe tbody tr th {\n",
       "        vertical-align: top;\n",
       "    }\n",
       "\n",
       "    .dataframe thead th {\n",
       "        text-align: right;\n",
       "    }\n",
       "</style>\n",
       "<table border=\"1\" class=\"dataframe\">\n",
       "  <thead>\n",
       "    <tr style=\"text-align: right;\">\n",
       "      <th></th>\n",
       "      <th></th>\n",
       "      <th>count of senti labels</th>\n",
       "    </tr>\n",
       "    <tr>\n",
       "      <th>news_category</th>\n",
       "      <th>senti_labels</th>\n",
       "      <th></th>\n",
       "    </tr>\n",
       "  </thead>\n",
       "  <tbody>\n",
       "    <tr>\n",
       "      <th rowspan=\"3\" valign=\"top\">sports</th>\n",
       "      <th>Negative</th>\n",
       "      <td>6</td>\n",
       "    </tr>\n",
       "    <tr>\n",
       "      <th>Neutral</th>\n",
       "      <td>1</td>\n",
       "    </tr>\n",
       "    <tr>\n",
       "      <th>Positive</th>\n",
       "      <td>18</td>\n",
       "    </tr>\n",
       "    <tr>\n",
       "      <th rowspan=\"3\" valign=\"top\">technology</th>\n",
       "      <th>Negative</th>\n",
       "      <td>7</td>\n",
       "    </tr>\n",
       "    <tr>\n",
       "      <th>Neutral</th>\n",
       "      <td>3</td>\n",
       "    </tr>\n",
       "    <tr>\n",
       "      <th>Positive</th>\n",
       "      <td>15</td>\n",
       "    </tr>\n",
       "    <tr>\n",
       "      <th rowspan=\"3\" valign=\"top\">world</th>\n",
       "      <th>Negative</th>\n",
       "      <td>10</td>\n",
       "    </tr>\n",
       "    <tr>\n",
       "      <th>Neutral</th>\n",
       "      <td>4</td>\n",
       "    </tr>\n",
       "    <tr>\n",
       "      <th>Positive</th>\n",
       "      <td>11</td>\n",
       "    </tr>\n",
       "  </tbody>\n",
       "</table>\n",
       "</div>"
      ],
      "text/plain": [
       "                            count of senti labels\n",
       "news_category senti_labels                       \n",
       "sports        Negative                          6\n",
       "              Neutral                           1\n",
       "              Positive                         18\n",
       "technology    Negative                          7\n",
       "              Neutral                           3\n",
       "              Positive                         15\n",
       "world         Negative                         10\n",
       "              Neutral                           4\n",
       "              Positive                         11"
      ]
     },
     "execution_count": 84,
     "metadata": {},
     "output_type": "execute_result"
    }
   ],
   "source": [
    "a=df.groupby([\"news_category\",\"senti_labels\"])[\"senti_labels\"].count()\n",
    "a=pd.DataFrame(a)\n",
    "a.columns=[\"count of senti labels\"]\n",
    "a"
   ]
  },
  {
   "cell_type": "markdown",
   "id": "f9c56008",
   "metadata": {},
   "source": [
    "# 2. Sentiment Analysis using VADER"
   ]
  },
  {
   "cell_type": "code",
   "execution_count": null,
   "id": "bfbb948e",
   "metadata": {},
   "outputs": [],
   "source": [
    "import nltk\n",
    "nltk.download('vader_lexicon')"
   ]
  },
  {
   "cell_type": "code",
   "execution_count": 129,
   "id": "046b5c00",
   "metadata": {},
   "outputs": [],
   "source": [
    "from nltk.sentiment.vader import SentimentIntensityAnalyzer\n",
    "analyzer = SentimentIntensityAnalyzer()"
   ]
  },
  {
   "cell_type": "code",
   "execution_count": 87,
   "id": "57faad19",
   "metadata": {
    "scrolled": true
   },
   "outputs": [
    {
     "name": "stdout",
     "output_type": "stream",
     "text": [
      "Sentence 0 : {'neg': 0.044, 'neu': 0.907, 'pos': 0.048, 'compound': 0.0516}\n",
      "Sentence 1 : {'neg': 0.046, 'neu': 0.907, 'pos': 0.046, 'compound': 0.0}\n",
      "Sentence 2 : {'neg': 0.357, 'neu': 0.608, 'pos': 0.034, 'compound': -0.967}\n",
      "Sentence 3 : {'neg': 0.0, 'neu': 0.94, 'pos': 0.06, 'compound': 0.4939}\n",
      "Sentence 4 : {'neg': 0.136, 'neu': 0.734, 'pos': 0.13, 'compound': -0.3182}\n",
      "Sentence 5 : {'neg': 0.078, 'neu': 0.752, 'pos': 0.17, 'compound': 0.638}\n",
      "Sentence 6 : {'neg': 0.219, 'neu': 0.731, 'pos': 0.049, 'compound': -0.8402}\n",
      "Sentence 7 : {'neg': 0.052, 'neu': 0.84, 'pos': 0.108, 'compound': 0.4588}\n",
      "Sentence 8 : {'neg': 0.093, 'neu': 0.863, 'pos': 0.044, 'compound': -0.3182}\n",
      "Sentence 9 : {'neg': 0.065, 'neu': 0.704, 'pos': 0.231, 'compound': 0.872}\n",
      "Sentence 10 : {'neg': 0.064, 'neu': 0.811, 'pos': 0.125, 'compound': 0.6358}\n",
      "Sentence 11 : {'neg': 0.065, 'neu': 0.935, 'pos': 0.0, 'compound': -0.25}\n",
      "Sentence 12 : {'neg': 0.0, 'neu': 0.953, 'pos': 0.047, 'compound': 0.2732}\n",
      "Sentence 13 : {'neg': 0.158, 'neu': 0.668, 'pos': 0.174, 'compound': 0.2263}\n",
      "Sentence 14 : {'neg': 0.077, 'neu': 0.861, 'pos': 0.062, 'compound': -0.1531}\n",
      "Sentence 15 : {'neg': 0.0, 'neu': 0.965, 'pos': 0.035, 'compound': 0.0258}\n",
      "Sentence 16 : {'neg': 0.244, 'neu': 0.644, 'pos': 0.112, 'compound': -0.8316}\n",
      "Sentence 17 : {'neg': 0.038, 'neu': 0.643, 'pos': 0.318, 'compound': 0.9337}\n",
      "Sentence 18 : {'neg': 0.0, 'neu': 0.848, 'pos': 0.152, 'compound': 0.7579}\n",
      "Sentence 19 : {'neg': 0.0, 'neu': 0.926, 'pos': 0.074, 'compound': 0.3612}\n",
      "Sentence 20 : {'neg': 0.089, 'neu': 0.911, 'pos': 0.0, 'compound': -0.4019}\n",
      "Sentence 21 : {'neg': 0.0, 'neu': 0.864, 'pos': 0.136, 'compound': 0.7096}\n",
      "Sentence 22 : {'neg': 0.0, 'neu': 0.769, 'pos': 0.231, 'compound': 0.8934}\n",
      "Sentence 23 : {'neg': 0.028, 'neu': 0.786, 'pos': 0.185, 'compound': 0.7783}\n",
      "Sentence 24 : {'neg': 0.422, 'neu': 0.578, 'pos': 0.0, 'compound': -0.9607}\n",
      "Sentence 25 : {'neg': 0.116, 'neu': 0.742, 'pos': 0.142, 'compound': 0.296}\n",
      "Sentence 26 : {'neg': 0.0, 'neu': 0.798, 'pos': 0.202, 'compound': 0.8977}\n",
      "Sentence 27 : {'neg': 0.0, 'neu': 0.828, 'pos': 0.172, 'compound': 0.7096}\n",
      "Sentence 28 : {'neg': 0.0, 'neu': 0.756, 'pos': 0.244, 'compound': 0.8074}\n",
      "Sentence 29 : {'neg': 0.095, 'neu': 0.793, 'pos': 0.112, 'compound': 0.2263}\n",
      "Sentence 30 : {'neg': 0.255, 'neu': 0.66, 'pos': 0.086, 'compound': -0.8581}\n",
      "Sentence 31 : {'neg': 0.0, 'neu': 0.809, 'pos': 0.191, 'compound': 0.8519}\n",
      "Sentence 32 : {'neg': 0.0, 'neu': 0.819, 'pos': 0.181, 'compound': 0.8225}\n",
      "Sentence 33 : {'neg': 0.034, 'neu': 0.814, 'pos': 0.152, 'compound': 0.7717}\n",
      "Sentence 34 : {'neg': 0.289, 'neu': 0.571, 'pos': 0.14, 'compound': -0.765}\n",
      "Sentence 35 : {'neg': 0.0, 'neu': 0.799, 'pos': 0.201, 'compound': 0.8957}\n",
      "Sentence 36 : {'neg': 0.0, 'neu': 0.909, 'pos': 0.091, 'compound': 0.5423}\n",
      "Sentence 37 : {'neg': 0.32, 'neu': 0.68, 'pos': 0.0, 'compound': -0.9552}\n",
      "Sentence 38 : {'neg': 0.202, 'neu': 0.713, 'pos': 0.085, 'compound': -0.7956}\n",
      "Sentence 39 : {'neg': 0.101, 'neu': 0.804, 'pos': 0.094, 'compound': -0.1027}\n",
      "Sentence 40 : {'neg': 0.043, 'neu': 0.757, 'pos': 0.2, 'compound': 0.8669}\n",
      "Sentence 41 : {'neg': 0.0, 'neu': 0.691, 'pos': 0.309, 'compound': 0.9468}\n",
      "Sentence 42 : {'neg': 0.0, 'neu': 0.623, 'pos': 0.377, 'compound': 0.9698}\n",
      "Sentence 43 : {'neg': 0.0, 'neu': 0.615, 'pos': 0.385, 'compound': 0.9702}\n",
      "Sentence 44 : {'neg': 0.0, 'neu': 1.0, 'pos': 0.0, 'compound': 0.0}\n",
      "Sentence 45 : {'neg': 0.066, 'neu': 0.888, 'pos': 0.045, 'compound': -0.2732}\n",
      "Sentence 46 : {'neg': 0.0, 'neu': 0.913, 'pos': 0.087, 'compound': 0.5574}\n",
      "Sentence 47 : {'neg': 0.212, 'neu': 0.762, 'pos': 0.026, 'compound': -0.8519}\n",
      "Sentence 48 : {'neg': 0.188, 'neu': 0.62, 'pos': 0.192, 'compound': 0.0516}\n",
      "Sentence 49 : {'neg': 0.046, 'neu': 0.649, 'pos': 0.305, 'compound': 0.886}\n",
      "Sentence 50 : {'neg': 0.156, 'neu': 0.778, 'pos': 0.066, 'compound': -0.5423}\n",
      "Sentence 51 : {'neg': 0.32, 'neu': 0.68, 'pos': 0.0, 'compound': -0.9552}\n",
      "Sentence 52 : {'neg': 0.219, 'neu': 0.613, 'pos': 0.168, 'compound': -0.7351}\n",
      "Sentence 53 : {'neg': 0.212, 'neu': 0.695, 'pos': 0.093, 'compound': -0.6908}\n",
      "Sentence 54 : {'neg': 0.153, 'neu': 0.847, 'pos': 0.0, 'compound': -0.7964}\n",
      "Sentence 55 : {'neg': 0.085, 'neu': 0.772, 'pos': 0.143, 'compound': 0.6249}\n",
      "Sentence 56 : {'neg': 0.124, 'neu': 0.876, 'pos': 0.0, 'compound': -0.7269}\n",
      "Sentence 57 : {'neg': 0.176, 'neu': 0.772, 'pos': 0.051, 'compound': -0.7003}\n",
      "Sentence 58 : {'neg': 0.079, 'neu': 0.921, 'pos': 0.0, 'compound': -0.5423}\n",
      "Sentence 59 : {'neg': 0.16, 'neu': 0.811, 'pos': 0.029, 'compound': -0.7003}\n",
      "Sentence 60 : {'neg': 0.1, 'neu': 0.9, 'pos': 0.0, 'compound': -0.4939}\n",
      "Sentence 61 : {'neg': 0.089, 'neu': 0.911, 'pos': 0.0, 'compound': -0.4019}\n",
      "Sentence 62 : {'neg': 0.158, 'neu': 0.668, 'pos': 0.174, 'compound': 0.2263}\n",
      "Sentence 63 : {'neg': 0.299, 'neu': 0.653, 'pos': 0.047, 'compound': -0.9423}\n",
      "Sentence 64 : {'neg': 0.236, 'neu': 0.637, 'pos': 0.127, 'compound': -0.743}\n",
      "Sentence 65 : {'neg': 0.242, 'neu': 0.758, 'pos': 0.0, 'compound': -0.8957}\n",
      "Sentence 66 : {'neg': 0.0, 'neu': 0.635, 'pos': 0.365, 'compound': 0.967}\n",
      "Sentence 67 : {'neg': 0.213, 'neu': 0.731, 'pos': 0.056, 'compound': -0.8074}\n",
      "Sentence 68 : {'neg': 0.271, 'neu': 0.678, 'pos': 0.051, 'compound': -0.9186}\n",
      "Sentence 69 : {'neg': 0.331, 'neu': 0.669, 'pos': 0.0, 'compound': -0.946}\n",
      "Sentence 70 : {'neg': 0.22, 'neu': 0.754, 'pos': 0.026, 'compound': -0.8316}\n",
      "Sentence 71 : {'neg': 0.07, 'neu': 0.835, 'pos': 0.095, 'compound': 0.0258}\n",
      "Sentence 72 : {'neg': 0.275, 'neu': 0.701, 'pos': 0.023, 'compound': -0.9325}\n",
      "Sentence 73 : {'neg': 0.171, 'neu': 0.798, 'pos': 0.031, 'compound': -0.8074}\n",
      "Sentence 74 : {'neg': 0.238, 'neu': 0.689, 'pos': 0.073, 'compound': -0.8126}\n"
     ]
    }
   ],
   "source": [
    "for i,x in enumerate(df['clean_text']):\n",
    "    print('Sentence',i,':',analyzer.polarity_scores(x))"
   ]
  },
  {
   "cell_type": "code",
   "execution_count": 94,
   "id": "bd5c79f7",
   "metadata": {},
   "outputs": [
    {
     "data": {
      "text/plain": [
       "[0.0516, 0.0, -0.967, 0.4939, -0.3182]"
      ]
     },
     "execution_count": 94,
     "metadata": {},
     "output_type": "execute_result"
    }
   ],
   "source": [
    "sentiment_scores_va = [analyzer.polarity_scores(article)[\"compound\"] for article in df['clean_text']]\n",
    "sentiment_scores_va[0:5]"
   ]
  },
  {
   "cell_type": "code",
   "execution_count": 95,
   "id": "f9390dfc",
   "metadata": {},
   "outputs": [
    {
     "name": "stdout",
     "output_type": "stream",
     "text": [
      "75\n"
     ]
    }
   ],
   "source": [
    "print(len(sentiment_scores_va))"
   ]
  },
  {
   "cell_type": "code",
   "execution_count": 96,
   "id": "07fdd69c",
   "metadata": {},
   "outputs": [],
   "source": [
    "df[\"senti_scores_compound\"]=sentiment_scores_va"
   ]
  },
  {
   "cell_type": "code",
   "execution_count": 97,
   "id": "c593f227",
   "metadata": {},
   "outputs": [
    {
     "data": {
      "text/html": [
       "<div>\n",
       "<style scoped>\n",
       "    .dataframe tbody tr th:only-of-type {\n",
       "        vertical-align: middle;\n",
       "    }\n",
       "\n",
       "    .dataframe tbody tr th {\n",
       "        vertical-align: top;\n",
       "    }\n",
       "\n",
       "    .dataframe thead th {\n",
       "        text-align: right;\n",
       "    }\n",
       "</style>\n",
       "<table border=\"1\" class=\"dataframe\">\n",
       "  <thead>\n",
       "    <tr style=\"text-align: right;\">\n",
       "      <th></th>\n",
       "      <th>news_category</th>\n",
       "      <th>clean_text</th>\n",
       "      <th>Sentiment_score_textb</th>\n",
       "      <th>senti_labels</th>\n",
       "      <th>senti_scores_compound</th>\n",
       "    </tr>\n",
       "  </thead>\n",
       "  <tbody>\n",
       "    <tr>\n",
       "      <th>0</th>\n",
       "      <td>technology</td>\n",
       "      <td>oppo reno pro g bokeh flare portrait video sal...</td>\n",
       "      <td>0.250</td>\n",
       "      <td>Positive</td>\n",
       "      <td>0.0516</td>\n",
       "    </tr>\n",
       "    <tr>\n",
       "      <th>1</th>\n",
       "      <td>technology</td>\n",
       "      <td>oppo reno pro g bokeh flare portrait video go ...</td>\n",
       "      <td>0.077</td>\n",
       "      <td>Positive</td>\n",
       "      <td>0.0000</td>\n",
       "    </tr>\n",
       "    <tr>\n",
       "      <th>2</th>\n",
       "      <td>technology</td>\n",
       "      <td>pegasus use horrible human right abuse must st...</td>\n",
       "      <td>-0.254</td>\n",
       "      <td>Negative</td>\n",
       "      <td>-0.9670</td>\n",
       "    </tr>\n",
       "    <tr>\n",
       "      <th>3</th>\n",
       "      <td>technology</td>\n",
       "      <td>zoom buy five billion large ever acquisition z...</td>\n",
       "      <td>-0.024</td>\n",
       "      <td>Negative</td>\n",
       "      <td>0.4939</td>\n",
       "    </tr>\n",
       "    <tr>\n",
       "      <th>4</th>\n",
       "      <td>technology</td>\n",
       "      <td>form illegal spying impossible india minister ...</td>\n",
       "      <td>-0.299</td>\n",
       "      <td>Negative</td>\n",
       "      <td>-0.3182</td>\n",
       "    </tr>\n",
       "  </tbody>\n",
       "</table>\n",
       "</div>"
      ],
      "text/plain": [
       "  news_category                                         clean_text  \\\n",
       "0    technology  oppo reno pro g bokeh flare portrait video sal...   \n",
       "1    technology  oppo reno pro g bokeh flare portrait video go ...   \n",
       "2    technology  pegasus use horrible human right abuse must st...   \n",
       "3    technology  zoom buy five billion large ever acquisition z...   \n",
       "4    technology  form illegal spying impossible india minister ...   \n",
       "\n",
       "   Sentiment_score_textb senti_labels  senti_scores_compound  \n",
       "0                  0.250     Positive                 0.0516  \n",
       "1                  0.077     Positive                 0.0000  \n",
       "2                 -0.254     Negative                -0.9670  \n",
       "3                 -0.024     Negative                 0.4939  \n",
       "4                 -0.299     Negative                -0.3182  "
      ]
     },
     "execution_count": 97,
     "metadata": {},
     "output_type": "execute_result"
    }
   ],
   "source": [
    "df.head()"
   ]
  },
  {
   "cell_type": "code",
   "execution_count": 98,
   "id": "baf9714c",
   "metadata": {},
   "outputs": [],
   "source": [
    "df[\"senti_labels_vader\"]=\"dummy\"\n",
    "for i in range(75):\n",
    "    if df[\"senti_scores_compound\"][i]>0:\n",
    "        df.iloc[i,5]=\"Positive\"\n",
    "    elif df[\"senti_scores_compound\"][i]<0:\n",
    "        df.iloc[i,5]=\"Negative\"\n",
    "    else:\n",
    "        df.iloc[i,5]=\"Neutral\""
   ]
  },
  {
   "cell_type": "code",
   "execution_count": 99,
   "id": "a490d8b8",
   "metadata": {},
   "outputs": [
    {
     "data": {
      "text/html": [
       "<div>\n",
       "<style scoped>\n",
       "    .dataframe tbody tr th:only-of-type {\n",
       "        vertical-align: middle;\n",
       "    }\n",
       "\n",
       "    .dataframe tbody tr th {\n",
       "        vertical-align: top;\n",
       "    }\n",
       "\n",
       "    .dataframe thead th {\n",
       "        text-align: right;\n",
       "    }\n",
       "</style>\n",
       "<table border=\"1\" class=\"dataframe\">\n",
       "  <thead>\n",
       "    <tr style=\"text-align: right;\">\n",
       "      <th></th>\n",
       "      <th>news_category</th>\n",
       "      <th>clean_text</th>\n",
       "      <th>Sentiment_score_textb</th>\n",
       "      <th>senti_labels</th>\n",
       "      <th>senti_scores_compound</th>\n",
       "      <th>senti_labels_vader</th>\n",
       "    </tr>\n",
       "  </thead>\n",
       "  <tbody>\n",
       "    <tr>\n",
       "      <th>0</th>\n",
       "      <td>technology</td>\n",
       "      <td>oppo reno pro g bokeh flare portrait video sal...</td>\n",
       "      <td>0.250</td>\n",
       "      <td>Positive</td>\n",
       "      <td>0.0516</td>\n",
       "      <td>Positive</td>\n",
       "    </tr>\n",
       "    <tr>\n",
       "      <th>1</th>\n",
       "      <td>technology</td>\n",
       "      <td>oppo reno pro g bokeh flare portrait video go ...</td>\n",
       "      <td>0.077</td>\n",
       "      <td>Positive</td>\n",
       "      <td>0.0000</td>\n",
       "      <td>Neutral</td>\n",
       "    </tr>\n",
       "    <tr>\n",
       "      <th>2</th>\n",
       "      <td>technology</td>\n",
       "      <td>pegasus use horrible human right abuse must st...</td>\n",
       "      <td>-0.254</td>\n",
       "      <td>Negative</td>\n",
       "      <td>-0.9670</td>\n",
       "      <td>Negative</td>\n",
       "    </tr>\n",
       "    <tr>\n",
       "      <th>3</th>\n",
       "      <td>technology</td>\n",
       "      <td>zoom buy five billion large ever acquisition z...</td>\n",
       "      <td>-0.024</td>\n",
       "      <td>Negative</td>\n",
       "      <td>0.4939</td>\n",
       "      <td>Positive</td>\n",
       "    </tr>\n",
       "    <tr>\n",
       "      <th>4</th>\n",
       "      <td>technology</td>\n",
       "      <td>form illegal spying impossible india minister ...</td>\n",
       "      <td>-0.299</td>\n",
       "      <td>Negative</td>\n",
       "      <td>-0.3182</td>\n",
       "      <td>Negative</td>\n",
       "    </tr>\n",
       "  </tbody>\n",
       "</table>\n",
       "</div>"
      ],
      "text/plain": [
       "  news_category                                         clean_text  \\\n",
       "0    technology  oppo reno pro g bokeh flare portrait video sal...   \n",
       "1    technology  oppo reno pro g bokeh flare portrait video go ...   \n",
       "2    technology  pegasus use horrible human right abuse must st...   \n",
       "3    technology  zoom buy five billion large ever acquisition z...   \n",
       "4    technology  form illegal spying impossible india minister ...   \n",
       "\n",
       "   Sentiment_score_textb senti_labels  senti_scores_compound  \\\n",
       "0                  0.250     Positive                 0.0516   \n",
       "1                  0.077     Positive                 0.0000   \n",
       "2                 -0.254     Negative                -0.9670   \n",
       "3                 -0.024     Negative                 0.4939   \n",
       "4                 -0.299     Negative                -0.3182   \n",
       "\n",
       "  senti_labels_vader  \n",
       "0           Positive  \n",
       "1            Neutral  \n",
       "2           Negative  \n",
       "3           Positive  \n",
       "4           Negative  "
      ]
     },
     "execution_count": 99,
     "metadata": {},
     "output_type": "execute_result"
    }
   ],
   "source": [
    "df.head()"
   ]
  },
  {
   "cell_type": "code",
   "execution_count": 100,
   "id": "5cf85286",
   "metadata": {},
   "outputs": [
    {
     "data": {
      "text/html": [
       "<div>\n",
       "<style scoped>\n",
       "    .dataframe tbody tr th:only-of-type {\n",
       "        vertical-align: middle;\n",
       "    }\n",
       "\n",
       "    .dataframe tbody tr th {\n",
       "        vertical-align: top;\n",
       "    }\n",
       "\n",
       "    .dataframe thead th {\n",
       "        text-align: right;\n",
       "    }\n",
       "</style>\n",
       "<table border=\"1\" class=\"dataframe\">\n",
       "  <thead>\n",
       "    <tr style=\"text-align: right;\">\n",
       "      <th></th>\n",
       "      <th>news_category</th>\n",
       "      <th>clean_text</th>\n",
       "      <th>Sentiment_score_textb</th>\n",
       "      <th>senti_labels</th>\n",
       "      <th>senti_scores_compound</th>\n",
       "      <th>senti_labels_vader</th>\n",
       "    </tr>\n",
       "  </thead>\n",
       "  <tbody>\n",
       "    <tr>\n",
       "      <th>1</th>\n",
       "      <td>technology</td>\n",
       "      <td>oppo reno pro g bokeh flare portrait video go ...</td>\n",
       "      <td>0.077</td>\n",
       "      <td>Positive</td>\n",
       "      <td>0.0000</td>\n",
       "      <td>Neutral</td>\n",
       "    </tr>\n",
       "    <tr>\n",
       "      <th>3</th>\n",
       "      <td>technology</td>\n",
       "      <td>zoom buy five billion large ever acquisition z...</td>\n",
       "      <td>-0.024</td>\n",
       "      <td>Negative</td>\n",
       "      <td>0.4939</td>\n",
       "      <td>Positive</td>\n",
       "    </tr>\n",
       "    <tr>\n",
       "      <th>8</th>\n",
       "      <td>technology</td>\n",
       "      <td>no substance pegasus allegation attempt malign...</td>\n",
       "      <td>0.667</td>\n",
       "      <td>Positive</td>\n",
       "      <td>-0.3182</td>\n",
       "      <td>Negative</td>\n",
       "    </tr>\n",
       "    <tr>\n",
       "      <th>12</th>\n",
       "      <td>technology</td>\n",
       "      <td>shiv nadar step hcl tech md appoint chairman e...</td>\n",
       "      <td>0.000</td>\n",
       "      <td>Neutral</td>\n",
       "      <td>0.2732</td>\n",
       "      <td>Positive</td>\n",
       "    </tr>\n",
       "    <tr>\n",
       "      <th>20</th>\n",
       "      <td>technology</td>\n",
       "      <td>digital yuan could use spy olympic athlete sen...</td>\n",
       "      <td>0.000</td>\n",
       "      <td>Neutral</td>\n",
       "      <td>-0.4019</td>\n",
       "      <td>Negative</td>\n",
       "    </tr>\n",
       "    <tr>\n",
       "      <th>24</th>\n",
       "      <td>technology</td>\n",
       "      <td>robot collide ocado warehouse uk cause fire on...</td>\n",
       "      <td>0.000</td>\n",
       "      <td>Neutral</td>\n",
       "      <td>-0.9607</td>\n",
       "      <td>Negative</td>\n",
       "    </tr>\n",
       "    <tr>\n",
       "      <th>31</th>\n",
       "      <td>sports</td>\n",
       "      <td>jaffer share bollywood themed pic hidden messa...</td>\n",
       "      <td>-0.111</td>\n",
       "      <td>Negative</td>\n",
       "      <td>0.8519</td>\n",
       "      <td>Positive</td>\n",
       "    </tr>\n",
       "    <tr>\n",
       "      <th>34</th>\n",
       "      <td>sports</td>\n",
       "      <td>married millionaire premier league footballer ...</td>\n",
       "      <td>0.217</td>\n",
       "      <td>Positive</td>\n",
       "      <td>-0.7650</td>\n",
       "      <td>Negative</td>\n",
       "    </tr>\n",
       "    <tr>\n",
       "      <th>38</th>\n",
       "      <td>sports</td>\n",
       "      <td>olympics composer force classmate masturbate e...</td>\n",
       "      <td>0.000</td>\n",
       "      <td>Neutral</td>\n",
       "      <td>-0.7956</td>\n",
       "      <td>Negative</td>\n",
       "    </tr>\n",
       "    <tr>\n",
       "      <th>39</th>\n",
       "      <td>sports</td>\n",
       "      <td>buttler mahmood help england beat pakistan nd ...</td>\n",
       "      <td>0.095</td>\n",
       "      <td>Positive</td>\n",
       "      <td>-0.1027</td>\n",
       "      <td>Negative</td>\n",
       "    </tr>\n",
       "    <tr>\n",
       "      <th>44</th>\n",
       "      <td>sports</td>\n",
       "      <td>dad would always get goosebump talk olympic je...</td>\n",
       "      <td>0.052</td>\n",
       "      <td>Positive</td>\n",
       "      <td>0.0000</td>\n",
       "      <td>Neutral</td>\n",
       "    </tr>\n",
       "    <tr>\n",
       "      <th>48</th>\n",
       "      <td>sports</td>\n",
       "      <td>difficult ignore kishan shaw world cup harbhaj...</td>\n",
       "      <td>-0.038</td>\n",
       "      <td>Negative</td>\n",
       "      <td>0.0516</td>\n",
       "      <td>Positive</td>\n",
       "    </tr>\n",
       "    <tr>\n",
       "      <th>50</th>\n",
       "      <td>world</td>\n",
       "      <td>reality star say naked scare hotel staff austr...</td>\n",
       "      <td>0.000</td>\n",
       "      <td>Neutral</td>\n",
       "      <td>-0.5423</td>\n",
       "      <td>Negative</td>\n",
       "    </tr>\n",
       "    <tr>\n",
       "      <th>54</th>\n",
       "      <td>world</td>\n",
       "      <td>rocket land near presidential palace afghanist...</td>\n",
       "      <td>0.084</td>\n",
       "      <td>Positive</td>\n",
       "      <td>-0.7964</td>\n",
       "      <td>Negative</td>\n",
       "    </tr>\n",
       "    <tr>\n",
       "      <th>57</th>\n",
       "      <td>world</td>\n",
       "      <td>taiwan approve local covid vaccine candidate e...</td>\n",
       "      <td>0.042</td>\n",
       "      <td>Positive</td>\n",
       "      <td>-0.7003</td>\n",
       "      <td>Negative</td>\n",
       "    </tr>\n",
       "    <tr>\n",
       "      <th>60</th>\n",
       "      <td>world</td>\n",
       "      <td>issue not travel advisory uk amid covid surge ...</td>\n",
       "      <td>0.030</td>\n",
       "      <td>Positive</td>\n",
       "      <td>-0.4939</td>\n",
       "      <td>Negative</td>\n",
       "    </tr>\n",
       "    <tr>\n",
       "      <th>61</th>\n",
       "      <td>world</td>\n",
       "      <td>digital yuan could use spy olympic athlete sen...</td>\n",
       "      <td>0.000</td>\n",
       "      <td>Neutral</td>\n",
       "      <td>-0.4019</td>\n",
       "      <td>Negative</td>\n",
       "    </tr>\n",
       "    <tr>\n",
       "      <th>64</th>\n",
       "      <td>world</td>\n",
       "      <td>bandit shoot nigerian air force attack jet pil...</td>\n",
       "      <td>0.114</td>\n",
       "      <td>Positive</td>\n",
       "      <td>-0.7430</td>\n",
       "      <td>Negative</td>\n",
       "    </tr>\n",
       "    <tr>\n",
       "      <th>67</th>\n",
       "      <td>world</td>\n",
       "      <td>release moroccan inmate hold guantanamo prison...</td>\n",
       "      <td>0.062</td>\n",
       "      <td>Positive</td>\n",
       "      <td>-0.8074</td>\n",
       "      <td>Negative</td>\n",
       "    </tr>\n",
       "    <tr>\n",
       "      <th>68</th>\n",
       "      <td>world</td>\n",
       "      <td>israel fire artillery lebanon response rocket ...</td>\n",
       "      <td>0.033</td>\n",
       "      <td>Positive</td>\n",
       "      <td>-0.9186</td>\n",
       "      <td>Negative</td>\n",
       "    </tr>\n",
       "    <tr>\n",
       "      <th>69</th>\n",
       "      <td>world</td>\n",
       "      <td>france ban crush gassing male chick france ban...</td>\n",
       "      <td>0.094</td>\n",
       "      <td>Positive</td>\n",
       "      <td>-0.9460</td>\n",
       "      <td>Negative</td>\n",
       "    </tr>\n",
       "    <tr>\n",
       "      <th>70</th>\n",
       "      <td>world</td>\n",
       "      <td>drive away chinese warship dispute water phili...</td>\n",
       "      <td>0.000</td>\n",
       "      <td>Neutral</td>\n",
       "      <td>-0.8316</td>\n",
       "      <td>Negative</td>\n",
       "    </tr>\n",
       "    <tr>\n",
       "      <th>71</th>\n",
       "      <td>world</td>\n",
       "      <td>evacuate afghans military base virginia us pre...</td>\n",
       "      <td>-0.380</td>\n",
       "      <td>Negative</td>\n",
       "      <td>0.0258</td>\n",
       "      <td>Positive</td>\n",
       "    </tr>\n",
       "    <tr>\n",
       "      <th>73</th>\n",
       "      <td>world</td>\n",
       "      <td>info afghanistan envoy daughter kidnapping awa...</td>\n",
       "      <td>0.000</td>\n",
       "      <td>Neutral</td>\n",
       "      <td>-0.8074</td>\n",
       "      <td>Negative</td>\n",
       "    </tr>\n",
       "    <tr>\n",
       "      <th>74</th>\n",
       "      <td>world</td>\n",
       "      <td>yr old find abandon mexico reunite mother hond...</td>\n",
       "      <td>0.067</td>\n",
       "      <td>Positive</td>\n",
       "      <td>-0.8126</td>\n",
       "      <td>Negative</td>\n",
       "    </tr>\n",
       "  </tbody>\n",
       "</table>\n",
       "</div>"
      ],
      "text/plain": [
       "   news_category                                         clean_text  \\\n",
       "1     technology  oppo reno pro g bokeh flare portrait video go ...   \n",
       "3     technology  zoom buy five billion large ever acquisition z...   \n",
       "8     technology  no substance pegasus allegation attempt malign...   \n",
       "12    technology  shiv nadar step hcl tech md appoint chairman e...   \n",
       "20    technology  digital yuan could use spy olympic athlete sen...   \n",
       "24    technology  robot collide ocado warehouse uk cause fire on...   \n",
       "31        sports  jaffer share bollywood themed pic hidden messa...   \n",
       "34        sports  married millionaire premier league footballer ...   \n",
       "38        sports  olympics composer force classmate masturbate e...   \n",
       "39        sports  buttler mahmood help england beat pakistan nd ...   \n",
       "44        sports  dad would always get goosebump talk olympic je...   \n",
       "48        sports  difficult ignore kishan shaw world cup harbhaj...   \n",
       "50         world  reality star say naked scare hotel staff austr...   \n",
       "54         world  rocket land near presidential palace afghanist...   \n",
       "57         world  taiwan approve local covid vaccine candidate e...   \n",
       "60         world  issue not travel advisory uk amid covid surge ...   \n",
       "61         world  digital yuan could use spy olympic athlete sen...   \n",
       "64         world  bandit shoot nigerian air force attack jet pil...   \n",
       "67         world  release moroccan inmate hold guantanamo prison...   \n",
       "68         world  israel fire artillery lebanon response rocket ...   \n",
       "69         world  france ban crush gassing male chick france ban...   \n",
       "70         world  drive away chinese warship dispute water phili...   \n",
       "71         world  evacuate afghans military base virginia us pre...   \n",
       "73         world  info afghanistan envoy daughter kidnapping awa...   \n",
       "74         world  yr old find abandon mexico reunite mother hond...   \n",
       "\n",
       "    Sentiment_score_textb senti_labels  senti_scores_compound  \\\n",
       "1                   0.077     Positive                 0.0000   \n",
       "3                  -0.024     Negative                 0.4939   \n",
       "8                   0.667     Positive                -0.3182   \n",
       "12                  0.000      Neutral                 0.2732   \n",
       "20                  0.000      Neutral                -0.4019   \n",
       "24                  0.000      Neutral                -0.9607   \n",
       "31                 -0.111     Negative                 0.8519   \n",
       "34                  0.217     Positive                -0.7650   \n",
       "38                  0.000      Neutral                -0.7956   \n",
       "39                  0.095     Positive                -0.1027   \n",
       "44                  0.052     Positive                 0.0000   \n",
       "48                 -0.038     Negative                 0.0516   \n",
       "50                  0.000      Neutral                -0.5423   \n",
       "54                  0.084     Positive                -0.7964   \n",
       "57                  0.042     Positive                -0.7003   \n",
       "60                  0.030     Positive                -0.4939   \n",
       "61                  0.000      Neutral                -0.4019   \n",
       "64                  0.114     Positive                -0.7430   \n",
       "67                  0.062     Positive                -0.8074   \n",
       "68                  0.033     Positive                -0.9186   \n",
       "69                  0.094     Positive                -0.9460   \n",
       "70                  0.000      Neutral                -0.8316   \n",
       "71                 -0.380     Negative                 0.0258   \n",
       "73                  0.000      Neutral                -0.8074   \n",
       "74                  0.067     Positive                -0.8126   \n",
       "\n",
       "   senti_labels_vader  \n",
       "1             Neutral  \n",
       "3            Positive  \n",
       "8            Negative  \n",
       "12           Positive  \n",
       "20           Negative  \n",
       "24           Negative  \n",
       "31           Positive  \n",
       "34           Negative  \n",
       "38           Negative  \n",
       "39           Negative  \n",
       "44            Neutral  \n",
       "48           Positive  \n",
       "50           Negative  \n",
       "54           Negative  \n",
       "57           Negative  \n",
       "60           Negative  \n",
       "61           Negative  \n",
       "64           Negative  \n",
       "67           Negative  \n",
       "68           Negative  \n",
       "69           Negative  \n",
       "70           Negative  \n",
       "71           Positive  \n",
       "73           Negative  \n",
       "74           Negative  "
      ]
     },
     "execution_count": 100,
     "metadata": {},
     "output_type": "execute_result"
    }
   ],
   "source": [
    "df[df[\"senti_labels\"]!=df[\"senti_labels_vader\"]]"
   ]
  },
  {
   "cell_type": "code",
   "execution_count": 101,
   "id": "54c843e8",
   "metadata": {},
   "outputs": [
    {
     "data": {
      "text/plain": [
       "25"
      ]
     },
     "execution_count": 101,
     "metadata": {},
     "output_type": "execute_result"
    }
   ],
   "source": [
    "len(df[df[\"senti_labels\"]!=df[\"senti_labels_vader\"]])"
   ]
  },
  {
   "cell_type": "code",
   "execution_count": 108,
   "id": "a8b7bd1a",
   "metadata": {},
   "outputs": [
    {
     "data": {
      "text/html": [
       "<div>\n",
       "<style scoped>\n",
       "    .dataframe tbody tr th:only-of-type {\n",
       "        vertical-align: middle;\n",
       "    }\n",
       "\n",
       "    .dataframe tbody tr th {\n",
       "        vertical-align: top;\n",
       "    }\n",
       "\n",
       "    .dataframe thead th {\n",
       "        text-align: right;\n",
       "    }\n",
       "</style>\n",
       "<table border=\"1\" class=\"dataframe\">\n",
       "  <thead>\n",
       "    <tr style=\"text-align: right;\">\n",
       "      <th></th>\n",
       "      <th></th>\n",
       "      <th>count of senti labels_vader</th>\n",
       "    </tr>\n",
       "    <tr>\n",
       "      <th>news_category</th>\n",
       "      <th>senti_labels_vader</th>\n",
       "      <th></th>\n",
       "    </tr>\n",
       "  </thead>\n",
       "  <tbody>\n",
       "    <tr>\n",
       "      <th rowspan=\"3\" valign=\"top\">sports</th>\n",
       "      <th>Negative</th>\n",
       "      <td>7</td>\n",
       "    </tr>\n",
       "    <tr>\n",
       "      <th>Neutral</th>\n",
       "      <td>1</td>\n",
       "    </tr>\n",
       "    <tr>\n",
       "      <th>Positive</th>\n",
       "      <td>17</td>\n",
       "    </tr>\n",
       "    <tr>\n",
       "      <th rowspan=\"3\" valign=\"top\">technology</th>\n",
       "      <th>Negative</th>\n",
       "      <td>9</td>\n",
       "    </tr>\n",
       "    <tr>\n",
       "      <th>Neutral</th>\n",
       "      <td>1</td>\n",
       "    </tr>\n",
       "    <tr>\n",
       "      <th>Positive</th>\n",
       "      <td>15</td>\n",
       "    </tr>\n",
       "    <tr>\n",
       "      <th rowspan=\"2\" valign=\"top\">world</th>\n",
       "      <th>Negative</th>\n",
       "      <td>21</td>\n",
       "    </tr>\n",
       "    <tr>\n",
       "      <th>Positive</th>\n",
       "      <td>4</td>\n",
       "    </tr>\n",
       "  </tbody>\n",
       "</table>\n",
       "</div>"
      ],
      "text/plain": [
       "                                  count of senti labels_vader\n",
       "news_category senti_labels_vader                             \n",
       "sports        Negative                                      7\n",
       "              Neutral                                       1\n",
       "              Positive                                     17\n",
       "technology    Negative                                      9\n",
       "              Neutral                                       1\n",
       "              Positive                                     15\n",
       "world         Negative                                     21\n",
       "              Positive                                      4"
      ]
     },
     "execution_count": 108,
     "metadata": {},
     "output_type": "execute_result"
    }
   ],
   "source": [
    "b=df.groupby([\"news_category\",\"senti_labels_vader\"])[\"senti_labels_vader\"].count()\n",
    "b=pd.DataFrame(b)\n",
    "b.columns=[\"count of senti labels_vader\"]\n",
    "b"
   ]
  },
  {
   "cell_type": "code",
   "execution_count": 109,
   "id": "28261dc8",
   "metadata": {},
   "outputs": [
    {
     "data": {
      "text/html": [
       "<div>\n",
       "<style scoped>\n",
       "    .dataframe tbody tr th:only-of-type {\n",
       "        vertical-align: middle;\n",
       "    }\n",
       "\n",
       "    .dataframe tbody tr th {\n",
       "        vertical-align: top;\n",
       "    }\n",
       "\n",
       "    .dataframe thead th {\n",
       "        text-align: right;\n",
       "    }\n",
       "</style>\n",
       "<table border=\"1\" class=\"dataframe\">\n",
       "  <thead>\n",
       "    <tr style=\"text-align: right;\">\n",
       "      <th></th>\n",
       "      <th></th>\n",
       "      <th>count of senti labels</th>\n",
       "    </tr>\n",
       "    <tr>\n",
       "      <th>news_category</th>\n",
       "      <th>senti_labels</th>\n",
       "      <th></th>\n",
       "    </tr>\n",
       "  </thead>\n",
       "  <tbody>\n",
       "    <tr>\n",
       "      <th rowspan=\"3\" valign=\"top\">sports</th>\n",
       "      <th>Negative</th>\n",
       "      <td>6</td>\n",
       "    </tr>\n",
       "    <tr>\n",
       "      <th>Neutral</th>\n",
       "      <td>1</td>\n",
       "    </tr>\n",
       "    <tr>\n",
       "      <th>Positive</th>\n",
       "      <td>18</td>\n",
       "    </tr>\n",
       "    <tr>\n",
       "      <th rowspan=\"3\" valign=\"top\">technology</th>\n",
       "      <th>Negative</th>\n",
       "      <td>7</td>\n",
       "    </tr>\n",
       "    <tr>\n",
       "      <th>Neutral</th>\n",
       "      <td>3</td>\n",
       "    </tr>\n",
       "    <tr>\n",
       "      <th>Positive</th>\n",
       "      <td>15</td>\n",
       "    </tr>\n",
       "    <tr>\n",
       "      <th rowspan=\"3\" valign=\"top\">world</th>\n",
       "      <th>Negative</th>\n",
       "      <td>10</td>\n",
       "    </tr>\n",
       "    <tr>\n",
       "      <th>Neutral</th>\n",
       "      <td>4</td>\n",
       "    </tr>\n",
       "    <tr>\n",
       "      <th>Positive</th>\n",
       "      <td>11</td>\n",
       "    </tr>\n",
       "  </tbody>\n",
       "</table>\n",
       "</div>"
      ],
      "text/plain": [
       "                            count of senti labels\n",
       "news_category senti_labels                       \n",
       "sports        Negative                          6\n",
       "              Neutral                           1\n",
       "              Positive                         18\n",
       "technology    Negative                          7\n",
       "              Neutral                           3\n",
       "              Positive                         15\n",
       "world         Negative                         10\n",
       "              Neutral                           4\n",
       "              Positive                         11"
      ]
     },
     "execution_count": 109,
     "metadata": {},
     "output_type": "execute_result"
    }
   ],
   "source": [
    "a"
   ]
  },
  {
   "cell_type": "code",
   "execution_count": 125,
   "id": "f815f179",
   "metadata": {},
   "outputs": [
    {
     "data": {
      "text/html": [
       "<div>\n",
       "<style scoped>\n",
       "    .dataframe tbody tr th:only-of-type {\n",
       "        vertical-align: middle;\n",
       "    }\n",
       "\n",
       "    .dataframe tbody tr th {\n",
       "        vertical-align: top;\n",
       "    }\n",
       "\n",
       "    .dataframe thead th {\n",
       "        text-align: right;\n",
       "    }\n",
       "</style>\n",
       "<table border=\"1\" class=\"dataframe\">\n",
       "  <thead>\n",
       "    <tr style=\"text-align: right;\">\n",
       "      <th></th>\n",
       "      <th></th>\n",
       "      <th>count of senti labels</th>\n",
       "      <th>count of senti labels_vader</th>\n",
       "    </tr>\n",
       "    <tr>\n",
       "      <th>news_category</th>\n",
       "      <th></th>\n",
       "      <th></th>\n",
       "      <th></th>\n",
       "    </tr>\n",
       "  </thead>\n",
       "  <tbody>\n",
       "    <tr>\n",
       "      <th rowspan=\"3\" valign=\"top\">sports</th>\n",
       "      <th>Negative</th>\n",
       "      <td>6</td>\n",
       "      <td>7.0</td>\n",
       "    </tr>\n",
       "    <tr>\n",
       "      <th>Neutral</th>\n",
       "      <td>1</td>\n",
       "      <td>1.0</td>\n",
       "    </tr>\n",
       "    <tr>\n",
       "      <th>Positive</th>\n",
       "      <td>18</td>\n",
       "      <td>17.0</td>\n",
       "    </tr>\n",
       "    <tr>\n",
       "      <th rowspan=\"3\" valign=\"top\">technology</th>\n",
       "      <th>Negative</th>\n",
       "      <td>7</td>\n",
       "      <td>9.0</td>\n",
       "    </tr>\n",
       "    <tr>\n",
       "      <th>Neutral</th>\n",
       "      <td>3</td>\n",
       "      <td>1.0</td>\n",
       "    </tr>\n",
       "    <tr>\n",
       "      <th>Positive</th>\n",
       "      <td>15</td>\n",
       "      <td>15.0</td>\n",
       "    </tr>\n",
       "    <tr>\n",
       "      <th rowspan=\"3\" valign=\"top\">world</th>\n",
       "      <th>Negative</th>\n",
       "      <td>10</td>\n",
       "      <td>21.0</td>\n",
       "    </tr>\n",
       "    <tr>\n",
       "      <th>Neutral</th>\n",
       "      <td>4</td>\n",
       "      <td>NaN</td>\n",
       "    </tr>\n",
       "    <tr>\n",
       "      <th>Positive</th>\n",
       "      <td>11</td>\n",
       "      <td>4.0</td>\n",
       "    </tr>\n",
       "  </tbody>\n",
       "</table>\n",
       "</div>"
      ],
      "text/plain": [
       "                        count of senti labels  count of senti labels_vader\n",
       "news_category                                                             \n",
       "sports        Negative                      6                          7.0\n",
       "              Neutral                       1                          1.0\n",
       "              Positive                     18                         17.0\n",
       "technology    Negative                      7                          9.0\n",
       "              Neutral                       3                          1.0\n",
       "              Positive                     15                         15.0\n",
       "world         Negative                     10                         21.0\n",
       "              Neutral                       4                          NaN\n",
       "              Positive                     11                          4.0"
      ]
     },
     "execution_count": 125,
     "metadata": {},
     "output_type": "execute_result"
    }
   ],
   "source": [
    "c=pd.concat([a,b],axis=1)\n",
    "c"
   ]
  },
  {
   "cell_type": "code",
   "execution_count": 126,
   "id": "79c77779",
   "metadata": {},
   "outputs": [
    {
     "data": {
      "text/plain": [
       "Index(['count of senti labels', 'count of senti labels_vader'], dtype='object')"
      ]
     },
     "execution_count": 126,
     "metadata": {},
     "output_type": "execute_result"
    }
   ],
   "source": [
    "c.columns"
   ]
  },
  {
   "cell_type": "code",
   "execution_count": 128,
   "id": "a6ecf351",
   "metadata": {},
   "outputs": [
    {
     "data": {
      "text/html": [
       "<div>\n",
       "<style scoped>\n",
       "    .dataframe tbody tr th:only-of-type {\n",
       "        vertical-align: middle;\n",
       "    }\n",
       "\n",
       "    .dataframe tbody tr th {\n",
       "        vertical-align: top;\n",
       "    }\n",
       "\n",
       "    .dataframe thead th {\n",
       "        text-align: right;\n",
       "    }\n",
       "</style>\n",
       "<table border=\"1\" class=\"dataframe\">\n",
       "  <thead>\n",
       "    <tr style=\"text-align: right;\">\n",
       "      <th></th>\n",
       "      <th></th>\n",
       "      <th>count of senti labels</th>\n",
       "      <th>count of senti labels_vader</th>\n",
       "    </tr>\n",
       "    <tr>\n",
       "      <th>news_category</th>\n",
       "      <th></th>\n",
       "      <th></th>\n",
       "      <th></th>\n",
       "    </tr>\n",
       "  </thead>\n",
       "  <tbody>\n",
       "    <tr>\n",
       "      <th rowspan=\"3\" valign=\"top\">sports</th>\n",
       "      <th>Negative</th>\n",
       "      <td>6</td>\n",
       "      <td>7.0</td>\n",
       "    </tr>\n",
       "    <tr>\n",
       "      <th>Neutral</th>\n",
       "      <td>1</td>\n",
       "      <td>1.0</td>\n",
       "    </tr>\n",
       "    <tr>\n",
       "      <th>Positive</th>\n",
       "      <td>18</td>\n",
       "      <td>17.0</td>\n",
       "    </tr>\n",
       "    <tr>\n",
       "      <th rowspan=\"3\" valign=\"top\">technology</th>\n",
       "      <th>Negative</th>\n",
       "      <td>7</td>\n",
       "      <td>9.0</td>\n",
       "    </tr>\n",
       "    <tr>\n",
       "      <th>Neutral</th>\n",
       "      <td>3</td>\n",
       "      <td>1.0</td>\n",
       "    </tr>\n",
       "    <tr>\n",
       "      <th>Positive</th>\n",
       "      <td>15</td>\n",
       "      <td>15.0</td>\n",
       "    </tr>\n",
       "    <tr>\n",
       "      <th rowspan=\"3\" valign=\"top\">world</th>\n",
       "      <th>Negative</th>\n",
       "      <td>10</td>\n",
       "      <td>21.0</td>\n",
       "    </tr>\n",
       "    <tr>\n",
       "      <th>Neutral</th>\n",
       "      <td>4</td>\n",
       "      <td>0.0</td>\n",
       "    </tr>\n",
       "    <tr>\n",
       "      <th>Positive</th>\n",
       "      <td>11</td>\n",
       "      <td>4.0</td>\n",
       "    </tr>\n",
       "  </tbody>\n",
       "</table>\n",
       "</div>"
      ],
      "text/plain": [
       "                        count of senti labels  count of senti labels_vader\n",
       "news_category                                                             \n",
       "sports        Negative                      6                          7.0\n",
       "              Neutral                       1                          1.0\n",
       "              Positive                     18                         17.0\n",
       "technology    Negative                      7                          9.0\n",
       "              Neutral                       3                          1.0\n",
       "              Positive                     15                         15.0\n",
       "world         Negative                     10                         21.0\n",
       "              Neutral                       4                          0.0\n",
       "              Positive                     11                          4.0"
      ]
     },
     "execution_count": 128,
     "metadata": {},
     "output_type": "execute_result"
    }
   ],
   "source": [
    "c=c.replace({np.nan:0})\n",
    "c"
   ]
  },
  {
   "cell_type": "code",
   "execution_count": 131,
   "id": "851fe0d0",
   "metadata": {},
   "outputs": [
    {
     "data": {
      "text/plain": [
       "'chahal I comfortable kuldeep st odi win vs sl team india seven wicket win first odi sri lanka sunday india spinner kuldeep yadav say happy yuzvendra chahal get play together team india first time comfortable share input field add kuldeep chahal take two wicket'"
      ]
     },
     "execution_count": 131,
     "metadata": {},
     "output_type": "execute_result"
    }
   ],
   "source": [
    "df[df[\"senti_scores_compound\"]==df[\"senti_scores_compound\"].max()][\"clean_text\"].values[0]"
   ]
  },
  {
   "cell_type": "code",
   "execution_count": 132,
   "id": "aa9cc72f",
   "metadata": {},
   "outputs": [
    {
     "data": {
      "text/plain": [
       "'pegasus use horrible human right abuse must stop whatsapp head head whatsapp cathcart sunday tweet nso dangerous spyware use commit horrible human right abuse around world must stop react report allege use pegasus government surveillance need company critically government take step hold nso group accountable cathcart add'"
      ]
     },
     "execution_count": 132,
     "metadata": {},
     "output_type": "execute_result"
    }
   ],
   "source": [
    "df[df[\"senti_scores_compound\"]==df[\"senti_scores_compound\"].min()][\"clean_text\"].values[0]"
   ]
  },
  {
   "cell_type": "code",
   "execution_count": 133,
   "id": "35488049",
   "metadata": {},
   "outputs": [
    {
     "data": {
      "text/plain": [
       "Negative    37\n",
       "Positive    36\n",
       "Neutral      2\n",
       "Name: senti_labels_vader, dtype: int64"
      ]
     },
     "execution_count": 133,
     "metadata": {},
     "output_type": "execute_result"
    }
   ],
   "source": [
    "df.senti_labels_vader.value_counts()"
   ]
  },
  {
   "cell_type": "code",
   "execution_count": 134,
   "id": "e67669d5",
   "metadata": {},
   "outputs": [
    {
     "data": {
      "text/plain": [
       "count           75\n",
       "unique           3\n",
       "top       Negative\n",
       "freq            37\n",
       "Name: senti_labels_vader, dtype: object"
      ]
     },
     "execution_count": 134,
     "metadata": {},
     "output_type": "execute_result"
    }
   ],
   "source": [
    "df.senti_labels_vader.describe()"
   ]
  },
  {
   "cell_type": "code",
   "execution_count": 135,
   "id": "9ecd0ed5",
   "metadata": {},
   "outputs": [
    {
     "data": {
      "text/plain": [
       "<AxesSubplot:>"
      ]
     },
     "execution_count": 135,
     "metadata": {},
     "output_type": "execute_result"
    },
    {
     "data": {
      "image/png": "[encoded data removed]",
      "text/plain": [
       "<Figure size 432x288 with 1 Axes>"
      ]
     },
     "metadata": {
      "needs_background": "light"
     },
     "output_type": "display_data"
    }
   ],
   "source": [
    "df.boxplot()"
   ]
  },
  {
   "cell_type": "code",
   "execution_count": 136,
   "id": "1dcc1236",
   "metadata": {},
   "outputs": [
    {
     "data": {
      "text/plain": [
       "array([[<AxesSubplot:title={'center':'Sentiment_score_textb'}>,\n",
       "        <AxesSubplot:title={'center':'senti_scores_compound'}>]],\n",
       "      dtype=object)"
      ]
     },
     "execution_count": 136,
     "metadata": {},
     "output_type": "execute_result"
    },
    {
     "data": {
      "image/png": "[encoded data removed]",
      "text/plain": [
       "<Figure size 432x288 with 2 Axes>"
      ]
     },
     "metadata": {
      "needs_background": "light"
     },
     "output_type": "display_data"
    }
   ],
   "source": [
    "df.hist()"
   ]
  }
 ],
 "metadata": {
  "hide_input": false,
  "kernelspec": {
   "display_name": "Python 3",
   "language": "python",
   "name": "python3"
  },
  "language_info": {
   "codemirror_mode": {
    "name": "ipython",
    "version": 3
   },
   "file_extension": ".py",
   "mimetype": "text/x-python",
   "name": "python",
   "nbconvert_exporter": "python",
   "pygments_lexer": "ipython3",
   "version": "3.8.8"
  }
 },
 "nbformat": 4,
 "nbformat_minor": 5
}
